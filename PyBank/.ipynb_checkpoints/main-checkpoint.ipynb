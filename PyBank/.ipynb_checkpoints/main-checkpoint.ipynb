{
 "cells": [
  {
   "cell_type": "code",
   "execution_count": 1,
   "id": "eb36a757",
   "metadata": {},
   "outputs": [
    {
     "name": "stdout",
     "output_type": "stream",
     "text": [
      "<_csv.reader object at 0x00000199490FB640>\n",
      "CSV Header: ['Date', 'Profit/Losses']\n",
      "['Jan-10', '1088983']\n",
      "['Feb-10', '-354534']\n",
      "['Mar-10', '276622']\n",
      "['Apr-10', '-728133']\n",
      "['May-10', '852993']\n",
      "['Jun-10', '563721']\n",
      "['Jul-10', '-535208']\n",
      "['Aug-10', '632349']\n",
      "['Sep-10', '-173744']\n",
      "['Oct-10', '950741']\n",
      "['Nov-10', '-785750']\n",
      "['Dec-10', '-1194133']\n",
      "['Jan-11', '-589576']\n",
      "['Feb-11', '-883921']\n",
      "['Mar-11', '443564']\n",
      "['Apr-11', '837887']\n",
      "['May-11', '1081472']\n",
      "['Jun-11', '464033']\n",
      "['Jul-11', '-1066544']\n",
      "['Aug-11', '323846']\n",
      "['Sep-11', '-806551']\n",
      "['Oct-11', '487053']\n",
      "['Nov-11', '1128811']\n",
      "['Dec-11', '791398']\n",
      "['Jan-12', '739367']\n",
      "['Feb-12', '-197825']\n",
      "['Mar-12', '666016']\n",
      "['Apr-12', '589771']\n",
      "['May-12', '489290']\n",
      "['Jun-12', '-471439']\n",
      "['Jul-12', '120417']\n",
      "['Aug-12', '175347']\n",
      "['Sep-12', '855449']\n",
      "['Oct-12', '605195']\n",
      "['Nov-12', '-235220']\n",
      "['Dec-12', '347138']\n",
      "['Jan-13', '298510']\n",
      "['Feb-13', '163254']\n",
      "['Mar-13', '1141840']\n",
      "['Apr-13', '542630']\n",
      "['May-13', '99841']\n",
      "['Jun-13', '752765']\n",
      "['Jul-13', '-252949']\n",
      "['Aug-13', '914424']\n",
      "['Sep-13', '679524']\n",
      "['Oct-13', '514377']\n",
      "['Nov-13', '462102']\n",
      "['Dec-13', '159782']\n",
      "['Jan-14', '878810']\n",
      "['Feb-14', '-946748']\n",
      "['Mar-14', '340335']\n",
      "['Apr-14', '292032']\n",
      "['May-14', '502266']\n",
      "['Jun-14', '265852']\n",
      "['Jul-14', '851017']\n",
      "['Aug-14', '-549615']\n",
      "['Sep-14', '290162']\n",
      "['Oct-14', '755391']\n",
      "['Nov-14', '1073202']\n",
      "['Dec-14', '313000']\n",
      "['Jan-15', '241132']\n",
      "['Feb-15', '1036589']\n",
      "['Mar-15', '853904']\n",
      "['Apr-15', '-388932']\n",
      "['May-15', '982952']\n",
      "['Jun-15', '537759']\n",
      "['Jul-15', '547784']\n",
      "['Aug-15', '-496214']\n",
      "['Sep-15', '854181']\n",
      "['Oct-15', '934719']\n",
      "['Nov-15', '-288531']\n",
      "['Dec-15', '-184383']\n",
      "['Jan-16', '659541']\n",
      "['Feb-16', '-1149123']\n",
      "['Mar-16', '355882']\n",
      "['Apr-16', '662284']\n",
      "['May-16', '518681']\n",
      "['Jun-16', '-748256']\n",
      "['Jul-16', '-910775']\n",
      "['Aug-16', '951227']\n",
      "['Sep-16', '898241']\n",
      "['Oct-16', '-729004']\n",
      "['Nov-16', '-112209']\n",
      "['Dec-16', '516313']\n",
      "['Jan-17', '607208']\n",
      "['Feb-17', '382539']\n",
      "['Jan-10', 'Feb-10', 'Mar-10', 'Apr-10', 'May-10', 'Jun-10', 'Jul-10', 'Aug-10', 'Sep-10', 'Oct-10', 'Nov-10', 'Dec-10', 'Jan-11', 'Feb-11', 'Mar-11', 'Apr-11', 'May-11', 'Jun-11', 'Jul-11', 'Aug-11', 'Sep-11', 'Oct-11', 'Nov-11', 'Dec-11', 'Jan-12', 'Feb-12', 'Mar-12', 'Apr-12', 'May-12', 'Jun-12', 'Jul-12', 'Aug-12', 'Sep-12', 'Oct-12', 'Nov-12', 'Dec-12', 'Jan-13', 'Feb-13', 'Mar-13', 'Apr-13', 'May-13', 'Jun-13', 'Jul-13', 'Aug-13', 'Sep-13', 'Oct-13', 'Nov-13', 'Dec-13', 'Jan-14', 'Feb-14', 'Mar-14', 'Apr-14', 'May-14', 'Jun-14', 'Jul-14', 'Aug-14', 'Sep-14', 'Oct-14', 'Nov-14', 'Dec-14', 'Jan-15', 'Feb-15', 'Mar-15', 'Apr-15', 'May-15', 'Jun-15', 'Jul-15', 'Aug-15', 'Sep-15', 'Oct-15', 'Nov-15', 'Dec-15', 'Jan-16', 'Feb-16', 'Mar-16', 'Apr-16', 'May-16', 'Jun-16', 'Jul-16', 'Aug-16', 'Sep-16', 'Oct-16', 'Nov-16', 'Dec-16', 'Jan-17', 'Feb-17']\n",
      "\n",
      "Financial Analysis\n",
      "----------------------\n",
      " Total Months: 86\n"
     ]
    }
   ],
   "source": [
    "#python code to analyze profit/loss data \n",
    "\n",
    "# import module to create file paths\n",
    "import os\n",
    "\n",
    "# Module for read/write CSV files\n",
    "import csv\n",
    "\n",
    "file_path = os.path.join(\"Resources\", \"budget_data.csv\")\n",
    "\n",
    "# lists to store data\n",
    "Date = []\n",
    "Profit_Loss = []\n",
    "\n",
    "#Read in CSV \n",
    "with open(file_path) as csvfile:\n",
    "\n",
    "    # CSV reader specifies delimiter and variable that holds contents\n",
    "    csvreader = csv.reader(csvfile, delimiter=\",\")\n",
    "\n",
    "    print(csvreader)\n",
    "    \n",
    "        # Read the header row first \n",
    "    csv_header = next(csvreader)\n",
    "    print(f\"CSV Header: {csv_header}\")\n",
    "\n",
    "    # Read each row of data after the header\n",
    "    for row in csvreader:\n",
    "        print(row)\n",
    "        #add info in lists\n",
    "        Date.append(row[0])\n",
    "        Profit_Loss.append(int(row[1]))\n",
    "\n",
    "print(Date)\n",
    "date_count = str(len(Date))\n",
    "print(\"\\nFinancial Analysis\\n----------------------\\n Total Months: \" + date_count) "
   ]
  },
  {
   "cell_type": "code",
   "execution_count": 2,
   "id": "ab142c4a",
   "metadata": {},
   "outputs": [
    {
     "name": "stdout",
     "output_type": "stream",
     "text": [
      "Total:  $ 22564198\n"
     ]
    }
   ],
   "source": [
    "profit_loss_sum = sum(Profit_Loss)\n",
    "print(\"Total:  $\", profit_loss_sum)"
   ]
  },
  {
   "cell_type": "code",
   "execution_count": 3,
   "id": "0a464047",
   "metadata": {},
   "outputs": [
    {
     "name": "stdout",
     "output_type": "stream",
     "text": [
      "Average Change: $ -8311.11\n"
     ]
    }
   ],
   "source": [
    "#set variables to 0\n",
    "total_change = 0\n",
    "num_changes = 0\n",
    "\n",
    "for i in range(1, len(Profit_Loss)):\n",
    "    change = Profit_Loss[i] - Profit_Loss[i - 1]\n",
    "    total_change += change\n",
    "    num_changes += 1\n",
    "\n",
    "# Calculate the average change\n",
    "average_change = round(total_change / num_changes, 2)\n",
    "\n",
    "print(\"Average Change: $\", average_change)"
   ]
  },
  {
   "cell_type": "code",
   "execution_count": 4,
   "id": "f0533886",
   "metadata": {},
   "outputs": [
    {
     "name": "stdout",
     "output_type": "stream",
     "text": [
      "Greatest Increase in Profits: Aug-16 ($ 1862002 )\n",
      "Greatest Decrease in Profits: Feb-14 ($ -1825558 )\n"
     ]
    }
   ],
   "source": [
    "# set variables and start data\n",
    "great_inc_date = \"\"\n",
    "great_inc_amount = 0\n",
    "great_dec_date = \"\"\n",
    "great_dec_amount = 0\n",
    "\n",
    "# Go through the Profit_Loss data get greatest\n",
    "for i in range(1, len(Profit_Loss)):\n",
    "    date = Date[i]\n",
    "    current_profit_loss = Profit_Loss[i]\n",
    "    previous_profit_loss = Profit_Loss[i - 1]\n",
    "    \n",
    "    increase = current_profit_loss - previous_profit_loss\n",
    "    \n",
    "    if increase > great_inc_amount:\n",
    "        great_inc_amount = increase\n",
    "        great_inc_date = date\n",
    "    \n",
    "    if increase < great_dec_amount:\n",
    "        great_dec_amount = increase\n",
    "        great_dec_date = date\n",
    "\n",
    "print(\"Greatest Increase in Profits:\", great_inc_date,\"($\",great_inc_amount,\")\")\n",
    "print(\"Greatest Decrease in Profits:\", great_dec_date,\"($\",great_dec_amount,\")\")"
   ]
  },
  {
   "cell_type": "code",
   "execution_count": 9,
   "id": "fface990",
   "metadata": {},
   "outputs": [
    {
     "name": "stdout",
     "output_type": "stream",
     "text": [
      "\n",
      "Financial Analysis\n",
      "----------------------\n",
      "Total Months: 86\n",
      "Total:  $ 22564198\n",
      "Average Change: $ -8311.11\n",
      "Greatest Increase in Profits: Aug-16 ($ 1862002 )\n",
      "Greatest Decrease in Profits: Feb-14 ($ -1825558 )\n",
      "Results exported to analysis/text_file_results.txt\n"
     ]
    }
   ],
   "source": [
    "#print to terminal\n",
    "print(\"\\nFinancial Analysis\\n----------------------\\nTotal Months: \" + date_count) \n",
    "print(\"Total:  $\", profit_loss_sum)\n",
    "print(\"Average Change: $\", average_change)\n",
    "print(\"Greatest Increase in Profits:\", great_inc_date,\"($\",great_inc_amount,\")\")\n",
    "print(\"Greatest Decrease in Profits:\", great_dec_date,\"($\",great_dec_amount,\")\")\n",
    "\n",
    "# Export to text file\n",
    "output_file = \"text_file_results.txt\"\n",
    "output_folder = \"analysis\"\n",
    "output_path = f\"{output_folder}/{output_file}\"\n",
    "with open(output_path, \"w\") as f:\n",
    "    f.write(f\"\\nFinancial Analysis\\n----------------------\\nTotal Months: {date_count}\\n\") \n",
    "    f.write(f\"Total: ${profit_loss_sum}\\n\")\n",
    "    f.write(f\"Average Change: $ {average_change}\\n\")\n",
    "    f.write(f\"Greatest Increase in Profits:{great_inc_date}(${great_inc_amount})\\n\")\n",
    "    f.write(f\"Greatest Decrease in Profits:{great_dec_date}(${great_dec_amount})\")\n",
    "print(f\"Results exported to {output_path}\")"
   ]
  }
 ],
 "metadata": {
  "kernelspec": {
   "display_name": "Python 3 (ipykernel)",
   "language": "python",
   "name": "python3"
  },
  "language_info": {
   "codemirror_mode": {
    "name": "ipython",
    "version": 3
   },
   "file_extension": ".py",
   "mimetype": "text/x-python",
   "name": "python",
   "nbconvert_exporter": "python",
   "pygments_lexer": "ipython3",
   "version": "3.10.11"
  }
 },
 "nbformat": 4,
 "nbformat_minor": 5
}

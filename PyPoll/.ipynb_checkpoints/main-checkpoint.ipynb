{
 "cells": [
  {
   "cell_type": "code",
   "execution_count": 19,
   "id": "1d66e0b0",
   "metadata": {},
   "outputs": [
    {
     "name": "stdout",
     "output_type": "stream",
     "text": [
      "\n",
      "Election Results\n",
      "----------------------\n",
      "Total Votes: 369711\n",
      "----------------------\n",
      "Charles Casper Stockham: 23.049%  (85213)\n",
      "Diana DeGette: 73.812%  (272892)\n",
      "Raymon Anthony Doane: 3.139%  (11606)\n"
     ]
    }
   ],
   "source": [
    "#import modules\n",
    "import os\n",
    "import csv\n",
    "\n",
    "file_path = os.path.join(\"Resources\", \"election_data.csv\")\n",
    "\n",
    "#dictionary to count candidate occurrences\n",
    "candidate_count = {}\n",
    "\n",
    "# Read the CSV file and parse its content into a list of lists\n",
    "with open(file_path) as file:\n",
    "    reader = csv.reader(file)\n",
    "    next(reader)  # Skip the header row if present\n",
    "    pypoll = list(reader)\n",
    "\n",
    "vote_count = str(len(pypoll))    \n",
    "# Iterate through data and update candidate count\n",
    "for row in pypoll:\n",
    "    _, _, Candidate = row\n",
    "    candidate_count[Candidate] = candidate_count.get(Candidate, 0) + 1\n",
    "\n",
    "print(\"\\nElection Results\\n----------------------\\nTotal Votes: \" + vote_count)        \n",
    "print(\"----------------------\")\n",
    "# Print the counts for each candidate\n",
    "for candidate, count in candidate_count.items():\n",
    "    \n",
    "    percentage = (count / int(vote_count))*100\n",
    "    print(f\"{candidate}: {percentage:.3f}%  ({count})\")\n",
    "#    print(\"----------------------\")"
   ]
  },
  {
   "cell_type": "code",
   "execution_count": 9,
   "id": "1cac77ef",
   "metadata": {},
   "outputs": [
    {
     "ename": "TypeError",
     "evalue": "unhashable type: 'list'",
     "output_type": "error",
     "traceback": [
      "\u001b[1;31m---------------------------------------------------------------------------\u001b[0m",
      "\u001b[1;31mTypeError\u001b[0m                                 Traceback (most recent call last)",
      "Cell \u001b[1;32mIn[9], line 8\u001b[0m\n\u001b[0;32m      4\u001b[0m \u001b[38;5;66;03m# Iterate through rowsdata and update the dictionaries\u001b[39;00m\n\u001b[0;32m      5\u001b[0m \u001b[38;5;28;01mfor\u001b[39;00m i \u001b[38;5;129;01min\u001b[39;00m \u001b[38;5;28mrange\u001b[39m(\u001b[38;5;241m1\u001b[39m, \u001b[38;5;28mlen\u001b[39m(Candidate)):\n\u001b[0;32m      6\u001b[0m         \n\u001b[0;32m      7\u001b[0m     \u001b[38;5;66;03m# Update Candidate count\u001b[39;00m\n\u001b[1;32m----> 8\u001b[0m       candidate_count[Candidate] \u001b[38;5;241m=\u001b[39m \u001b[43mcandidate_count\u001b[49m\u001b[38;5;241;43m.\u001b[39;49m\u001b[43mget\u001b[49m\u001b[43m(\u001b[49m\u001b[43mCandidate\u001b[49m\u001b[43m,\u001b[49m\u001b[43m \u001b[49m\u001b[38;5;241;43m0\u001b[39;49m\u001b[43m)\u001b[49m \u001b[38;5;241m+\u001b[39m \u001b[38;5;241m1\u001b[39m\n\u001b[0;32m     11\u001b[0m \u001b[38;5;66;03m# Print the counts for each column\u001b[39;00m\n\u001b[0;32m     12\u001b[0m \u001b[38;5;28mprint\u001b[39m(\u001b[38;5;124m\"\u001b[39m\u001b[38;5;124mCandidate counts:\u001b[39m\u001b[38;5;124m\"\u001b[39m, candidate_count)\n",
      "\u001b[1;31mTypeError\u001b[0m: unhashable type: 'list'"
     ]
    }
   ],
   "source": [
    "# to count candidate votes\n",
    "candidate_count = {}\n",
    "\n",
    "# Iterate through rowsdata and update the dictionaries\n",
    "for i in range(1, len(Candidate)):\n",
    "        \n",
    "    # Update Candidate count\n",
    "      candidate_count[Candidate] = candidate_count.get(Candidate, 0) + 1\n",
    "   \n",
    "\n",
    "# Print the counts for each column\n",
    "print(\"Candidate counts:\", candidate_count)"
   ]
  },
  {
   "cell_type": "code",
   "execution_count": null,
   "id": "55d0f026",
   "metadata": {},
   "outputs": [],
   "source": []
  },
  {
   "cell_type": "code",
   "execution_count": null,
   "id": "fa2aa43d",
   "metadata": {},
   "outputs": [],
   "source": [
    "###\n",
    "Election Results\n",
    "-------------------------\n",
    "Total Votes: 369711\n",
    "-------------------------\n",
    "Charles Casper Stockham: 23.049% (85213)\n",
    "Diana DeGette: 73.812% (272892)\n",
    "Raymon Anthony Doane: 3.139% (11606)\n",
    "-------------------------\n",
    "Winner: Diana DeGette\n",
    "-------------------------\n",
    "###"
   ]
  }
 ],
 "metadata": {
  "kernelspec": {
   "display_name": "Python 3 (ipykernel)",
   "language": "python",
   "name": "python3"
  },
  "language_info": {
   "codemirror_mode": {
    "name": "ipython",
    "version": 3
   },
   "file_extension": ".py",
   "mimetype": "text/x-python",
   "name": "python",
   "nbconvert_exporter": "python",
   "pygments_lexer": "ipython3",
   "version": "3.10.11"
  }
 },
 "nbformat": 4,
 "nbformat_minor": 5
}
